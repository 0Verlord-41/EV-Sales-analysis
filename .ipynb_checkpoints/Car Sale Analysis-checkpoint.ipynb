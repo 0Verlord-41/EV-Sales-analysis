{
 "cells": [
  {
   "cell_type": "markdown",
   "id": "913e878f-938d-4cfa-bf47-0300d13fecf8",
   "metadata": {},
   "source": [
    "# EV Sales Analysis in different states based on vehicle types"
   ]
  },
  {
   "cell_type": "code",
   "execution_count": 1,
   "id": "fbc1b281-d1ad-4d55-b923-2a317bbb5c2f",
   "metadata": {},
   "outputs": [],
   "source": [
    "import numpy as np\n",
    "import pandas as pd\n",
    "import matplotlib.pyplot as plt\n",
    "%matplotlib inline\n",
    "import seaborn as sbn"
   ]
  },
  {
   "cell_type": "code",
   "execution_count": 3,
   "id": "6e38298d-5ad2-4ed9-892b-5a6657798d6f",
   "metadata": {},
   "outputs": [],
   "source": [
    "df = pd.read_csv('final_dataset.csv', encoding = 'unicode_escape')"
   ]
  },
  {
   "cell_type": "code",
   "execution_count": 4,
   "id": "0bd631d0-cf6a-495b-b9cf-c7b9b4068e90",
   "metadata": {},
   "outputs": [
    {
     "data": {
      "text/plain": [
       "(32, 13)"
      ]
     },
     "execution_count": 4,
     "metadata": {},
     "output_type": "execute_result"
    }
   ],
   "source": [
    "df.shape"
   ]
  },
  {
   "cell_type": "code",
   "execution_count": 6,
   "id": "0f739f2f-3146-4a10-accd-a3229889974b",
   "metadata": {},
   "outputs": [
    {
     "data": {
      "text/html": [
       "<div>\n",
       "<style scoped>\n",
       "    .dataframe tbody tr th:only-of-type {\n",
       "        vertical-align: middle;\n",
       "    }\n",
       "\n",
       "    .dataframe tbody tr th {\n",
       "        vertical-align: top;\n",
       "    }\n",
       "\n",
       "    .dataframe thead th {\n",
       "        text-align: right;\n",
       "    }\n",
       "</style>\n",
       "<table border=\"1\" class=\"dataframe\">\n",
       "  <thead>\n",
       "    <tr style=\"text-align: right;\">\n",
       "      <th></th>\n",
       "      <th>Unnamed: 0</th>\n",
       "      <th>State Name</th>\n",
       "      <th>Two Wheeler</th>\n",
       "      <th>Three Wheeler</th>\n",
       "      <th>Four Wheeler</th>\n",
       "      <th>Goods Vehicles</th>\n",
       "      <th>Public Service Vehicle</th>\n",
       "      <th>Special Category Vehicles</th>\n",
       "      <th>Ambulance/Hearses</th>\n",
       "      <th>Construction Equipment Vehicle</th>\n",
       "      <th>Other</th>\n",
       "      <th>Grand Total</th>\n",
       "      <th>total-charging-stations</th>\n",
       "    </tr>\n",
       "  </thead>\n",
       "  <tbody>\n",
       "    <tr>\n",
       "      <th>0</th>\n",
       "      <td>0</td>\n",
       "      <td>Andaman and Nicobar Island</td>\n",
       "      <td>1</td>\n",
       "      <td>30</td>\n",
       "      <td>81</td>\n",
       "      <td>0</td>\n",
       "      <td>40</td>\n",
       "      <td>0</td>\n",
       "      <td>0</td>\n",
       "      <td>0</td>\n",
       "      <td>7</td>\n",
       "      <td>159</td>\n",
       "      <td>NaN</td>\n",
       "    </tr>\n",
       "    <tr>\n",
       "      <th>1</th>\n",
       "      <td>1</td>\n",
       "      <td>Arunachal Pradesh</td>\n",
       "      <td>14</td>\n",
       "      <td>0</td>\n",
       "      <td>5</td>\n",
       "      <td>0</td>\n",
       "      <td>0</td>\n",
       "      <td>0</td>\n",
       "      <td>0</td>\n",
       "      <td>0</td>\n",
       "      <td>1</td>\n",
       "      <td>20</td>\n",
       "      <td>NaN</td>\n",
       "    </tr>\n",
       "    <tr>\n",
       "      <th>2</th>\n",
       "      <td>2</td>\n",
       "      <td>Assam</td>\n",
       "      <td>721</td>\n",
       "      <td>47041</td>\n",
       "      <td>161</td>\n",
       "      <td>7</td>\n",
       "      <td>15</td>\n",
       "      <td>0</td>\n",
       "      <td>0</td>\n",
       "      <td>0</td>\n",
       "      <td>2</td>\n",
       "      <td>47947</td>\n",
       "      <td>10.0</td>\n",
       "    </tr>\n",
       "    <tr>\n",
       "      <th>3</th>\n",
       "      <td>3</td>\n",
       "      <td>Bihar</td>\n",
       "      <td>5003</td>\n",
       "      <td>59079</td>\n",
       "      <td>114</td>\n",
       "      <td>11</td>\n",
       "      <td>26</td>\n",
       "      <td>0</td>\n",
       "      <td>0</td>\n",
       "      <td>0</td>\n",
       "      <td>8</td>\n",
       "      <td>64241</td>\n",
       "      <td>9.0</td>\n",
       "    </tr>\n",
       "    <tr>\n",
       "      <th>4</th>\n",
       "      <td>4</td>\n",
       "      <td>Chandigarh</td>\n",
       "      <td>298</td>\n",
       "      <td>1410</td>\n",
       "      <td>182</td>\n",
       "      <td>0</td>\n",
       "      <td>40</td>\n",
       "      <td>0</td>\n",
       "      <td>0</td>\n",
       "      <td>0</td>\n",
       "      <td>1</td>\n",
       "      <td>1931</td>\n",
       "      <td>2.0</td>\n",
       "    </tr>\n",
       "    <tr>\n",
       "      <th>5</th>\n",
       "      <td>5</td>\n",
       "      <td>Chhattisgarh</td>\n",
       "      <td>6424</td>\n",
       "      <td>5341</td>\n",
       "      <td>117</td>\n",
       "      <td>1077</td>\n",
       "      <td>1</td>\n",
       "      <td>0</td>\n",
       "      <td>0</td>\n",
       "      <td>368</td>\n",
       "      <td>100</td>\n",
       "      <td>13428</td>\n",
       "      <td>18.0</td>\n",
       "    </tr>\n",
       "    <tr>\n",
       "      <th>6</th>\n",
       "      <td>6</td>\n",
       "      <td>Delhi</td>\n",
       "      <td>14730</td>\n",
       "      <td>112831</td>\n",
       "      <td>3051</td>\n",
       "      <td>49</td>\n",
       "      <td>39</td>\n",
       "      <td>0</td>\n",
       "      <td>0</td>\n",
       "      <td>0</td>\n",
       "      <td>1602</td>\n",
       "      <td>132302</td>\n",
       "      <td>179.0</td>\n",
       "    </tr>\n",
       "    <tr>\n",
       "      <th>7</th>\n",
       "      <td>7</td>\n",
       "      <td>Goa</td>\n",
       "      <td>1314</td>\n",
       "      <td>28</td>\n",
       "      <td>289</td>\n",
       "      <td>13</td>\n",
       "      <td>36</td>\n",
       "      <td>2</td>\n",
       "      <td>0</td>\n",
       "      <td>0</td>\n",
       "      <td>4</td>\n",
       "      <td>1686</td>\n",
       "      <td>8.0</td>\n",
       "    </tr>\n",
       "    <tr>\n",
       "      <th>8</th>\n",
       "      <td>8</td>\n",
       "      <td>Gujarat</td>\n",
       "      <td>13662</td>\n",
       "      <td>1869</td>\n",
       "      <td>1309</td>\n",
       "      <td>28</td>\n",
       "      <td>278</td>\n",
       "      <td>344</td>\n",
       "      <td>0</td>\n",
       "      <td>26</td>\n",
       "      <td>77</td>\n",
       "      <td>17593</td>\n",
       "      <td>78.0</td>\n",
       "    </tr>\n",
       "    <tr>\n",
       "      <th>9</th>\n",
       "      <td>9</td>\n",
       "      <td>Haryana</td>\n",
       "      <td>7777</td>\n",
       "      <td>18595</td>\n",
       "      <td>186</td>\n",
       "      <td>122</td>\n",
       "      <td>8</td>\n",
       "      <td>2</td>\n",
       "      <td>0</td>\n",
       "      <td>0</td>\n",
       "      <td>90</td>\n",
       "      <td>26780</td>\n",
       "      <td>62.0</td>\n",
       "    </tr>\n",
       "  </tbody>\n",
       "</table>\n",
       "</div>"
      ],
      "text/plain": [
       "   Unnamed: 0                  State Name  Two Wheeler  Three Wheeler  \\\n",
       "0           0  Andaman and Nicobar Island            1             30   \n",
       "1           1           Arunachal Pradesh           14              0   \n",
       "2           2                       Assam          721          47041   \n",
       "3           3                       Bihar         5003          59079   \n",
       "4           4                  Chandigarh          298           1410   \n",
       "5           5                Chhattisgarh         6424           5341   \n",
       "6           6                       Delhi        14730         112831   \n",
       "7           7                         Goa         1314             28   \n",
       "8           8                     Gujarat        13662           1869   \n",
       "9           9                     Haryana         7777          18595   \n",
       "\n",
       "   Four Wheeler  Goods Vehicles  Public Service Vehicle  \\\n",
       "0            81               0                      40   \n",
       "1             5               0                       0   \n",
       "2           161               7                      15   \n",
       "3           114              11                      26   \n",
       "4           182               0                      40   \n",
       "5           117            1077                       1   \n",
       "6          3051              49                      39   \n",
       "7           289              13                      36   \n",
       "8          1309              28                     278   \n",
       "9           186             122                       8   \n",
       "\n",
       "   Special Category Vehicles  Ambulance/Hearses  \\\n",
       "0                          0                  0   \n",
       "1                          0                  0   \n",
       "2                          0                  0   \n",
       "3                          0                  0   \n",
       "4                          0                  0   \n",
       "5                          0                  0   \n",
       "6                          0                  0   \n",
       "7                          2                  0   \n",
       "8                        344                  0   \n",
       "9                          2                  0   \n",
       "\n",
       "   Construction Equipment Vehicle  Other  Grand Total  total-charging-stations  \n",
       "0                               0      7          159                      NaN  \n",
       "1                               0      1           20                      NaN  \n",
       "2                               0      2        47947                     10.0  \n",
       "3                               0      8        64241                      9.0  \n",
       "4                               0      1         1931                      2.0  \n",
       "5                             368    100        13428                     18.0  \n",
       "6                               0   1602       132302                    179.0  \n",
       "7                               0      4         1686                      8.0  \n",
       "8                              26     77        17593                     78.0  \n",
       "9                               0     90        26780                     62.0  "
      ]
     },
     "execution_count": 6,
     "metadata": {},
     "output_type": "execute_result"
    }
   ],
   "source": [
    "df.head(10)"
   ]
  },
  {
   "cell_type": "code",
   "execution_count": 7,
   "id": "406b5c69-92c7-4104-81be-f60319a18940",
   "metadata": {},
   "outputs": [
    {
     "name": "stdout",
     "output_type": "stream",
     "text": [
      "<class 'pandas.core.frame.DataFrame'>\n",
      "RangeIndex: 32 entries, 0 to 31\n",
      "Data columns (total 13 columns):\n",
      " #   Column                          Non-Null Count  Dtype  \n",
      "---  ------                          --------------  -----  \n",
      " 0   Unnamed: 0                      32 non-null     int64  \n",
      " 1   State Name                      32 non-null     object \n",
      " 2   Two Wheeler                     32 non-null     int64  \n",
      " 3   Three Wheeler                   32 non-null     int64  \n",
      " 4   Four Wheeler                    32 non-null     int64  \n",
      " 5   Goods Vehicles                  32 non-null     int64  \n",
      " 6   Public Service Vehicle          32 non-null     int64  \n",
      " 7   Special Category Vehicles       32 non-null     int64  \n",
      " 8   Ambulance/Hearses               32 non-null     int64  \n",
      " 9   Construction Equipment Vehicle  32 non-null     int64  \n",
      " 10  Other                           32 non-null     int64  \n",
      " 11  Grand Total                     32 non-null     int64  \n",
      " 12  total-charging-stations         24 non-null     float64\n",
      "dtypes: float64(1), int64(11), object(1)\n",
      "memory usage: 3.4+ KB\n"
     ]
    }
   ],
   "source": [
    "df.info()"
   ]
  },
  {
   "cell_type": "code",
   "execution_count": 9,
   "id": "95bf872a-c926-4313-933b-e8f36d68d6a0",
   "metadata": {},
   "outputs": [
    {
     "data": {
      "text/html": [
       "<div>\n",
       "<style scoped>\n",
       "    .dataframe tbody tr th:only-of-type {\n",
       "        vertical-align: middle;\n",
       "    }\n",
       "\n",
       "    .dataframe tbody tr th {\n",
       "        vertical-align: top;\n",
       "    }\n",
       "\n",
       "    .dataframe thead th {\n",
       "        text-align: right;\n",
       "    }\n",
       "</style>\n",
       "<table border=\"1\" class=\"dataframe\">\n",
       "  <thead>\n",
       "    <tr style=\"text-align: right;\">\n",
       "      <th></th>\n",
       "      <th>Unnamed: 0</th>\n",
       "      <th>State Name</th>\n",
       "      <th>Two Wheeler</th>\n",
       "      <th>Three Wheeler</th>\n",
       "      <th>Four Wheeler</th>\n",
       "      <th>Goods Vehicles</th>\n",
       "      <th>Public Service Vehicle</th>\n",
       "      <th>Special Category Vehicles</th>\n",
       "      <th>Ambulance/Hearses</th>\n",
       "      <th>Construction Equipment Vehicle</th>\n",
       "      <th>Other</th>\n",
       "      <th>Grand Total</th>\n",
       "      <th>total-charging-stations</th>\n",
       "    </tr>\n",
       "  </thead>\n",
       "  <tbody>\n",
       "    <tr>\n",
       "      <th>0</th>\n",
       "      <td>False</td>\n",
       "      <td>False</td>\n",
       "      <td>False</td>\n",
       "      <td>False</td>\n",
       "      <td>False</td>\n",
       "      <td>False</td>\n",
       "      <td>False</td>\n",
       "      <td>False</td>\n",
       "      <td>False</td>\n",
       "      <td>False</td>\n",
       "      <td>False</td>\n",
       "      <td>False</td>\n",
       "      <td>True</td>\n",
       "    </tr>\n",
       "    <tr>\n",
       "      <th>1</th>\n",
       "      <td>False</td>\n",
       "      <td>False</td>\n",
       "      <td>False</td>\n",
       "      <td>False</td>\n",
       "      <td>False</td>\n",
       "      <td>False</td>\n",
       "      <td>False</td>\n",
       "      <td>False</td>\n",
       "      <td>False</td>\n",
       "      <td>False</td>\n",
       "      <td>False</td>\n",
       "      <td>False</td>\n",
       "      <td>True</td>\n",
       "    </tr>\n",
       "    <tr>\n",
       "      <th>2</th>\n",
       "      <td>False</td>\n",
       "      <td>False</td>\n",
       "      <td>False</td>\n",
       "      <td>False</td>\n",
       "      <td>False</td>\n",
       "      <td>False</td>\n",
       "      <td>False</td>\n",
       "      <td>False</td>\n",
       "      <td>False</td>\n",
       "      <td>False</td>\n",
       "      <td>False</td>\n",
       "      <td>False</td>\n",
       "      <td>False</td>\n",
       "    </tr>\n",
       "    <tr>\n",
       "      <th>3</th>\n",
       "      <td>False</td>\n",
       "      <td>False</td>\n",
       "      <td>False</td>\n",
       "      <td>False</td>\n",
       "      <td>False</td>\n",
       "      <td>False</td>\n",
       "      <td>False</td>\n",
       "      <td>False</td>\n",
       "      <td>False</td>\n",
       "      <td>False</td>\n",
       "      <td>False</td>\n",
       "      <td>False</td>\n",
       "      <td>False</td>\n",
       "    </tr>\n",
       "    <tr>\n",
       "      <th>4</th>\n",
       "      <td>False</td>\n",
       "      <td>False</td>\n",
       "      <td>False</td>\n",
       "      <td>False</td>\n",
       "      <td>False</td>\n",
       "      <td>False</td>\n",
       "      <td>False</td>\n",
       "      <td>False</td>\n",
       "      <td>False</td>\n",
       "      <td>False</td>\n",
       "      <td>False</td>\n",
       "      <td>False</td>\n",
       "      <td>False</td>\n",
       "    </tr>\n",
       "  </tbody>\n",
       "</table>\n",
       "</div>"
      ],
      "text/plain": [
       "   Unnamed: 0  State Name  Two Wheeler  Three Wheeler  Four Wheeler  \\\n",
       "0       False       False        False          False         False   \n",
       "1       False       False        False          False         False   \n",
       "2       False       False        False          False         False   \n",
       "3       False       False        False          False         False   \n",
       "4       False       False        False          False         False   \n",
       "\n",
       "   Goods Vehicles  Public Service Vehicle  Special Category Vehicles  \\\n",
       "0           False                   False                      False   \n",
       "1           False                   False                      False   \n",
       "2           False                   False                      False   \n",
       "3           False                   False                      False   \n",
       "4           False                   False                      False   \n",
       "\n",
       "   Ambulance/Hearses  Construction Equipment Vehicle  Other  Grand Total  \\\n",
       "0              False                           False  False        False   \n",
       "1              False                           False  False        False   \n",
       "2              False                           False  False        False   \n",
       "3              False                           False  False        False   \n",
       "4              False                           False  False        False   \n",
       "\n",
       "   total-charging-stations  \n",
       "0                     True  \n",
       "1                     True  \n",
       "2                    False  \n",
       "3                    False  \n",
       "4                    False  "
      ]
     },
     "execution_count": 9,
     "metadata": {},
     "output_type": "execute_result"
    }
   ],
   "source": [
    "pd.isnull(df.head(5))"
   ]
  },
  {
   "cell_type": "code",
   "execution_count": 10,
   "id": "957b4e38-3bae-4f8c-bb02-bd7b87a00023",
   "metadata": {},
   "outputs": [
    {
     "data": {
      "text/plain": [
       "Unnamed: 0                        0\n",
       "State Name                        0\n",
       "Two Wheeler                       0\n",
       "Three Wheeler                     0\n",
       "Four Wheeler                      0\n",
       "Goods Vehicles                    0\n",
       "Public Service Vehicle            0\n",
       "Special Category Vehicles         0\n",
       "Ambulance/Hearses                 0\n",
       "Construction Equipment Vehicle    0\n",
       "Other                             0\n",
       "Grand Total                       0\n",
       "total-charging-stations           8\n",
       "dtype: int64"
      ]
     },
     "execution_count": 10,
     "metadata": {},
     "output_type": "execute_result"
    }
   ],
   "source": [
    "pd.isnull(df).sum()"
   ]
  },
  {
   "cell_type": "code",
   "execution_count": 11,
   "id": "40ea010b-5458-4e74-9a7c-136d85efd5de",
   "metadata": {},
   "outputs": [],
   "source": [
    "df['total-charging-stations'] = df['total-charging-stations'].fillna(0)"
   ]
  },
  {
   "cell_type": "code",
   "execution_count": 12,
   "id": "2747f6e2-d01e-4fe7-b181-a9562ddddfe0",
   "metadata": {},
   "outputs": [
    {
     "data": {
      "text/plain": [
       "Unnamed: 0                        0\n",
       "State Name                        0\n",
       "Two Wheeler                       0\n",
       "Three Wheeler                     0\n",
       "Four Wheeler                      0\n",
       "Goods Vehicles                    0\n",
       "Public Service Vehicle            0\n",
       "Special Category Vehicles         0\n",
       "Ambulance/Hearses                 0\n",
       "Construction Equipment Vehicle    0\n",
       "Other                             0\n",
       "Grand Total                       0\n",
       "total-charging-stations           0\n",
       "dtype: int64"
      ]
     },
     "execution_count": 12,
     "metadata": {},
     "output_type": "execute_result"
    }
   ],
   "source": [
    "pd.isnull(df).sum()"
   ]
  },
  {
   "cell_type": "code",
   "execution_count": 13,
   "id": "220c441f-ed86-4163-85e4-d063ba8dd115",
   "metadata": {},
   "outputs": [
    {
     "data": {
      "text/plain": [
       "(32, 13)"
      ]
     },
     "execution_count": 13,
     "metadata": {},
     "output_type": "execute_result"
    }
   ],
   "source": [
    "df.shape"
   ]
  },
  {
   "cell_type": "code",
   "execution_count": 14,
   "id": "21cad273-cf8a-4688-9879-6dd7dc6bec79",
   "metadata": {},
   "outputs": [
    {
     "data": {
      "text/html": [
       "<div>\n",
       "<style scoped>\n",
       "    .dataframe tbody tr th:only-of-type {\n",
       "        vertical-align: middle;\n",
       "    }\n",
       "\n",
       "    .dataframe tbody tr th {\n",
       "        vertical-align: top;\n",
       "    }\n",
       "\n",
       "    .dataframe thead th {\n",
       "        text-align: right;\n",
       "    }\n",
       "</style>\n",
       "<table border=\"1\" class=\"dataframe\">\n",
       "  <thead>\n",
       "    <tr style=\"text-align: right;\">\n",
       "      <th></th>\n",
       "      <th>Unnamed: 0</th>\n",
       "      <th>State Name</th>\n",
       "      <th>Two Wheeler</th>\n",
       "      <th>Three Wheeler</th>\n",
       "      <th>Four Wheeler</th>\n",
       "      <th>Goods Vehicles</th>\n",
       "      <th>Public Service Vehicle</th>\n",
       "      <th>Special Category Vehicles</th>\n",
       "      <th>Ambulance/Hearses</th>\n",
       "      <th>Construction Equipment Vehicle</th>\n",
       "      <th>Other</th>\n",
       "      <th>Grand Total</th>\n",
       "      <th>total-charging-stations</th>\n",
       "    </tr>\n",
       "  </thead>\n",
       "  <tbody>\n",
       "    <tr>\n",
       "      <th>0</th>\n",
       "      <td>0</td>\n",
       "      <td>Andaman and Nicobar Island</td>\n",
       "      <td>1</td>\n",
       "      <td>30</td>\n",
       "      <td>81</td>\n",
       "      <td>0</td>\n",
       "      <td>40</td>\n",
       "      <td>0</td>\n",
       "      <td>0</td>\n",
       "      <td>0</td>\n",
       "      <td>7</td>\n",
       "      <td>159</td>\n",
       "      <td>0.0</td>\n",
       "    </tr>\n",
       "    <tr>\n",
       "      <th>1</th>\n",
       "      <td>1</td>\n",
       "      <td>Arunachal Pradesh</td>\n",
       "      <td>14</td>\n",
       "      <td>0</td>\n",
       "      <td>5</td>\n",
       "      <td>0</td>\n",
       "      <td>0</td>\n",
       "      <td>0</td>\n",
       "      <td>0</td>\n",
       "      <td>0</td>\n",
       "      <td>1</td>\n",
       "      <td>20</td>\n",
       "      <td>0.0</td>\n",
       "    </tr>\n",
       "    <tr>\n",
       "      <th>2</th>\n",
       "      <td>2</td>\n",
       "      <td>Assam</td>\n",
       "      <td>721</td>\n",
       "      <td>47041</td>\n",
       "      <td>161</td>\n",
       "      <td>7</td>\n",
       "      <td>15</td>\n",
       "      <td>0</td>\n",
       "      <td>0</td>\n",
       "      <td>0</td>\n",
       "      <td>2</td>\n",
       "      <td>47947</td>\n",
       "      <td>10.0</td>\n",
       "    </tr>\n",
       "    <tr>\n",
       "      <th>3</th>\n",
       "      <td>3</td>\n",
       "      <td>Bihar</td>\n",
       "      <td>5003</td>\n",
       "      <td>59079</td>\n",
       "      <td>114</td>\n",
       "      <td>11</td>\n",
       "      <td>26</td>\n",
       "      <td>0</td>\n",
       "      <td>0</td>\n",
       "      <td>0</td>\n",
       "      <td>8</td>\n",
       "      <td>64241</td>\n",
       "      <td>9.0</td>\n",
       "    </tr>\n",
       "    <tr>\n",
       "      <th>4</th>\n",
       "      <td>4</td>\n",
       "      <td>Chandigarh</td>\n",
       "      <td>298</td>\n",
       "      <td>1410</td>\n",
       "      <td>182</td>\n",
       "      <td>0</td>\n",
       "      <td>40</td>\n",
       "      <td>0</td>\n",
       "      <td>0</td>\n",
       "      <td>0</td>\n",
       "      <td>1</td>\n",
       "      <td>1931</td>\n",
       "      <td>2.0</td>\n",
       "    </tr>\n",
       "  </tbody>\n",
       "</table>\n",
       "</div>"
      ],
      "text/plain": [
       "   Unnamed: 0                  State Name  Two Wheeler  Three Wheeler  \\\n",
       "0           0  Andaman and Nicobar Island            1             30   \n",
       "1           1           Arunachal Pradesh           14              0   \n",
       "2           2                       Assam          721          47041   \n",
       "3           3                       Bihar         5003          59079   \n",
       "4           4                  Chandigarh          298           1410   \n",
       "\n",
       "   Four Wheeler  Goods Vehicles  Public Service Vehicle  \\\n",
       "0            81               0                      40   \n",
       "1             5               0                       0   \n",
       "2           161               7                      15   \n",
       "3           114              11                      26   \n",
       "4           182               0                      40   \n",
       "\n",
       "   Special Category Vehicles  Ambulance/Hearses  \\\n",
       "0                          0                  0   \n",
       "1                          0                  0   \n",
       "2                          0                  0   \n",
       "3                          0                  0   \n",
       "4                          0                  0   \n",
       "\n",
       "   Construction Equipment Vehicle  Other  Grand Total  total-charging-stations  \n",
       "0                               0      7          159                      0.0  \n",
       "1                               0      1           20                      0.0  \n",
       "2                               0      2        47947                     10.0  \n",
       "3                               0      8        64241                      9.0  \n",
       "4                               0      1         1931                      2.0  "
      ]
     },
     "execution_count": 14,
     "metadata": {},
     "output_type": "execute_result"
    }
   ],
   "source": [
    "df.head(5)"
   ]
  },
  {
   "cell_type": "code",
   "execution_count": 15,
   "id": "a9e13799-89c5-4e0d-8e10-eedd0a3c6a82",
   "metadata": {},
   "outputs": [],
   "source": [
    "df['total-charging-stations']= df['total-charging-stations'].astype('int')"
   ]
  },
  {
   "cell_type": "code",
   "execution_count": 16,
   "id": "f415f396-a165-4823-b5b8-0a14d2b8c4cc",
   "metadata": {},
   "outputs": [
    {
     "name": "stdout",
     "output_type": "stream",
     "text": [
      "<class 'pandas.core.frame.DataFrame'>\n",
      "RangeIndex: 32 entries, 0 to 31\n",
      "Data columns (total 13 columns):\n",
      " #   Column                          Non-Null Count  Dtype \n",
      "---  ------                          --------------  ----- \n",
      " 0   Unnamed: 0                      32 non-null     int64 \n",
      " 1   State Name                      32 non-null     object\n",
      " 2   Two Wheeler                     32 non-null     int64 \n",
      " 3   Three Wheeler                   32 non-null     int64 \n",
      " 4   Four Wheeler                    32 non-null     int64 \n",
      " 5   Goods Vehicles                  32 non-null     int64 \n",
      " 6   Public Service Vehicle          32 non-null     int64 \n",
      " 7   Special Category Vehicles       32 non-null     int64 \n",
      " 8   Ambulance/Hearses               32 non-null     int64 \n",
      " 9   Construction Equipment Vehicle  32 non-null     int64 \n",
      " 10  Other                           32 non-null     int64 \n",
      " 11  Grand Total                     32 non-null     int64 \n",
      " 12  total-charging-stations         32 non-null     int32 \n",
      "dtypes: int32(1), int64(11), object(1)\n",
      "memory usage: 3.3+ KB\n"
     ]
    }
   ],
   "source": [
    "df.info()"
   ]
  },
  {
   "cell_type": "code",
   "execution_count": 17,
   "id": "aba56937-7eac-4695-b9b1-2167403154a3",
   "metadata": {},
   "outputs": [
    {
     "data": {
      "text/plain": [
       "dtype('int32')"
      ]
     },
     "execution_count": 17,
     "metadata": {},
     "output_type": "execute_result"
    }
   ],
   "source": [
    "df['total-charging-stations'].dtypes"
   ]
  },
  {
   "cell_type": "code",
   "execution_count": 28,
   "id": "9dc0897b-102f-4f3a-8841-9351e09f63ee",
   "metadata": {},
   "outputs": [],
   "source": [
    "df.rename(columns={'State Name':'State', 'Two Wheeler':'2 Wheeler', 'Three Wheeler':'3 Wheeler', 'Four Wheeler':'4 Wheeler', 'Public Service Vehicle':'Public Vehicle', 'Special Category Vehicles':'Special Vehicle', 'Ambulance/Hearses':'Ambulance', 'Construction Equipment Vehicle':'Construction Vehicle', 'total-charging-stations':'Charging Stations'}, inplace=True)"
   ]
  },
  {
   "cell_type": "code",
   "execution_count": 29,
   "id": "e67e166b-27a6-41b0-afad-e67afeaa8468",
   "metadata": {},
   "outputs": [
    {
     "name": "stdout",
     "output_type": "stream",
     "text": [
      "<class 'pandas.core.frame.DataFrame'>\n",
      "RangeIndex: 32 entries, 0 to 31\n",
      "Data columns (total 13 columns):\n",
      " #   Column             Non-Null Count  Dtype \n",
      "---  ------             --------------  ----- \n",
      " 0   Unnamed: 0         32 non-null     int64 \n",
      " 1   State              32 non-null     object\n",
      " 2   2 Wheeler          32 non-null     int64 \n",
      " 3   3 Wheeler          32 non-null     int64 \n",
      " 4   4 Wheeler          32 non-null     int64 \n",
      " 5   Goods Vehicles     32 non-null     int64 \n",
      " 6   Public Vehicle     32 non-null     int64 \n",
      " 7   Sp. Vehicle        32 non-null     int64 \n",
      " 8   Ambulance          32 non-null     int64 \n",
      " 9   Const. Vehicle     32 non-null     int64 \n",
      " 10  Other              32 non-null     int64 \n",
      " 11  Grand Total        32 non-null     int64 \n",
      " 12  Charging Stations  32 non-null     int32 \n",
      "dtypes: int32(1), int64(11), object(1)\n",
      "memory usage: 3.3+ KB\n"
     ]
    }
   ],
   "source": [
    "df.info()"
   ]
  },
  {
   "cell_type": "code",
   "execution_count": 30,
   "id": "c02f7878-45dc-48b5-ad78-d45d1c7dd8ba",
   "metadata": {},
   "outputs": [
    {
     "data": {
      "text/html": [
       "<div>\n",
       "<style scoped>\n",
       "    .dataframe tbody tr th:only-of-type {\n",
       "        vertical-align: middle;\n",
       "    }\n",
       "\n",
       "    .dataframe tbody tr th {\n",
       "        vertical-align: top;\n",
       "    }\n",
       "\n",
       "    .dataframe thead th {\n",
       "        text-align: right;\n",
       "    }\n",
       "</style>\n",
       "<table border=\"1\" class=\"dataframe\">\n",
       "  <thead>\n",
       "    <tr style=\"text-align: right;\">\n",
       "      <th></th>\n",
       "      <th>Charging Stations</th>\n",
       "    </tr>\n",
       "  </thead>\n",
       "  <tbody>\n",
       "    <tr>\n",
       "      <th>count</th>\n",
       "      <td>32.000000</td>\n",
       "    </tr>\n",
       "    <tr>\n",
       "      <th>mean</th>\n",
       "      <td>43.250000</td>\n",
       "    </tr>\n",
       "    <tr>\n",
       "      <th>std</th>\n",
       "      <td>65.256813</td>\n",
       "    </tr>\n",
       "    <tr>\n",
       "      <th>min</th>\n",
       "      <td>0.000000</td>\n",
       "    </tr>\n",
       "    <tr>\n",
       "      <th>25%</th>\n",
       "      <td>0.750000</td>\n",
       "    </tr>\n",
       "    <tr>\n",
       "      <th>50%</th>\n",
       "      <td>9.500000</td>\n",
       "    </tr>\n",
       "    <tr>\n",
       "      <th>75%</th>\n",
       "      <td>63.750000</td>\n",
       "    </tr>\n",
       "    <tr>\n",
       "      <th>max</th>\n",
       "      <td>265.000000</td>\n",
       "    </tr>\n",
       "  </tbody>\n",
       "</table>\n",
       "</div>"
      ],
      "text/plain": [
       "       Charging Stations\n",
       "count          32.000000\n",
       "mean           43.250000\n",
       "std            65.256813\n",
       "min             0.000000\n",
       "25%             0.750000\n",
       "50%             9.500000\n",
       "75%            63.750000\n",
       "max           265.000000"
      ]
     },
     "execution_count": 30,
     "metadata": {},
     "output_type": "execute_result"
    }
   ],
   "source": [
    "df[['Charging Stations']].describe()"
   ]
  },
  {
   "cell_type": "markdown",
   "id": "c276d5fe-406c-49c0-9eec-a4d5ef884ac1",
   "metadata": {},
   "source": [
    "# Exploratory Data Analysis"
   ]
  },
  {
   "cell_type": "code",
   "execution_count": 31,
   "id": "99d8cbf8-d72e-4b2b-8e82-05fa38a914e4",
   "metadata": {},
   "outputs": [
    {
     "data": {
      "text/plain": [
       "Index(['Unnamed: 0', 'State', '2 Wheeler', '3 Wheeler', '4 Wheeler',\n",
       "       'Goods Vehicles', 'Public Vehicle', 'Sp. Vehicle', 'Ambulance',\n",
       "       'Const. Vehicle', 'Other', 'Grand Total', 'Charging Stations'],\n",
       "      dtype='object')"
      ]
     },
     "execution_count": 31,
     "metadata": {},
     "output_type": "execute_result"
    }
   ],
   "source": [
    "df.columns"
   ]
  },
  {
   "cell_type": "code",
   "execution_count": 47,
   "id": "41b62f60-eb54-4c65-8c4e-295124fdac6c",
   "metadata": {},
   "outputs": [
    {
     "data": {
      "text/plain": [
       "<Axes: xlabel='State', ylabel='4 Wheeler'>"
      ]
     },
     "execution_count": 47,
     "metadata": {},
     "output_type": "execute_result"
    },
    {
     "data": {
      "image/png": "[encoded data removed]",
      "text/plain": [
       "<Figure size 1000x500 with 1 Axes>"
      ]
     },
     "metadata": {},
     "output_type": "display_data"
    }
   ],
   "source": [
    "sbn.set(rc={'figure.figsize':(10,5)})\n",
    "sbn.barplot(x='State', y='4 Wheeler', data=df.tail(5))"
   ]
  },
  {
   "cell_type": "code",
   "execution_count": 60,
   "id": "2c794d65-3565-4d08-9267-6cbfda3074e0",
   "metadata": {},
   "outputs": [
    {
     "data": {
      "text/plain": [
       "<Axes: xlabel='State', ylabel='4 Wheeler'>"
      ]
     },
     "execution_count": 60,
     "metadata": {},
     "output_type": "execute_result"
    },
    {
     "data": {
      "image/png": "[encoded data removed]",
      "text/plain": [
       "<Figure size 1000x500 with 1 Axes>"
      ]
     },
     "metadata": {},
     "output_type": "display_data"
    }
   ],
   "source": [
    "fourWheeler_state = df.groupby(['State'], as_index=False)['4 Wheeler'].sum().sort_values(by='4 Wheeler', ascending=False).head(5)\n",
    "sbn.barplot(data=fourWheeler_state, x='State', y='4 Wheeler')"
   ]
  },
  {
   "cell_type": "code",
   "execution_count": 59,
   "id": "ea5e00be-eab5-4dfa-99a3-24277c8b9994",
   "metadata": {},
   "outputs": [
    {
     "data": {
      "text/plain": [
       "<Axes: xlabel='State', ylabel='Public Vehicle'>"
      ]
     },
     "execution_count": 59,
     "metadata": {},
     "output_type": "execute_result"
    },
    {
     "data": {
      "image/png": "[encoded data removed]",
      "text/plain": [
       "<Figure size 1000x500 with 1 Axes>"
      ]
     },
     "metadata": {},
     "output_type": "display_data"
    }
   ],
   "source": [
    "PublicVehicle_state = df.groupby(['State'], as_index=False)['Public Vehicle'].sum().sort_values(by='Public Vehicle', ascending=False).head(5)\n",
    "sbn.barplot(data=PublicVehicle_state, x='State', y='Public Vehicle')"
   ]
  },
  {
   "cell_type": "code",
   "execution_count": 50,
   "id": "483f4376-b69b-4cf5-bad5-a0ba5a351aa8",
   "metadata": {},
   "outputs": [
    {
     "data": {
      "text/plain": [
       "<Axes: xlabel='State', ylabel='Charging Stations'>"
      ]
     },
     "execution_count": 50,
     "metadata": {},
     "output_type": "execute_result"
    },
    {
     "data": {
      "image/png": "[encoded data removed]",
      "text/plain": [
       "<Figure size 1000x500 with 1 Axes>"
      ]
     },
     "metadata": {},
     "output_type": "display_data"
    }
   ],
   "source": [
    "stations_state = df.groupby(['State'], as_index=False)['Charging Stations'].sum().sort_values(by='Charging Stations', ascending=False).head(5)\n",
    "sbn.barplot(data=stations_state, x='State', y='Charging Stations')"
   ]
  },
  {
   "cell_type": "code",
   "execution_count": null,
   "id": "0563616c-1636-4ed3-a01b-5771821abb75",
   "metadata": {},
   "outputs": [],
   "source": []
  }
 ],
 "metadata": {
  "kernelspec": {
   "display_name": "Python 3 (ipykernel)",
   "language": "python",
   "name": "python3"
  },
  "language_info": {
   "codemirror_mode": {
    "name": "ipython",
    "version": 3
   },
   "file_extension": ".py",
   "mimetype": "text/x-python",
   "name": "python",
   "nbconvert_exporter": "python",
   "pygments_lexer": "ipython3",
   "version": "3.12.4"
  }
 },
 "nbformat": 4,
 "nbformat_minor": 5
}
